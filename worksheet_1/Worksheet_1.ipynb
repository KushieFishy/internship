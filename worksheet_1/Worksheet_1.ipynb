{
 "cells": [
  {
   "cell_type": "code",
   "execution_count": 3,
   "id": "149c5273",
   "metadata": {},
   "outputs": [
    {
     "name": "stdout",
     "output_type": "stream",
     "text": [
      "Enter a number: 5\n",
      "The factorial of 5 is 120\n"
     ]
    }
   ],
   "source": [
    "def factorial(n):\n",
    "    if n == 0 or n == 1:\n",
    "        return 1\n",
    "    else:\n",
    "        return n * factorial(n-1)\n",
    "\n",
    "number = int(input(\"Enter a number: \"))\n",
    "result = factorial(number)\n",
    "print(\"The factorial of\", number, \"is\", result)"
   ]
  },
  {
   "cell_type": "code",
   "execution_count": 6,
   "id": "a63e41bb",
   "metadata": {},
   "outputs": [
    {
     "name": "stdout",
     "output_type": "stream",
     "text": [
      "Enter a number: 99\n",
      "99 is a composite number.\n"
     ]
    }
   ],
   "source": [
    "def is_prime(number):\n",
    "    if number < 2:\n",
    "        return False\n",
    "    for i in range(2, int(number**0.5) + 1):\n",
    "        if number % i == 0:\n",
    "            return False\n",
    "    return True\n",
    "\n",
    "number = int(input(\"Enter a number: \"))\n",
    "\n",
    "if is_prime(number):\n",
    "    print(number, \"is a prime number.\")\n",
    "else:\n",
    "    print(number, \"is a composite number.\")"
   ]
  },
  {
   "cell_type": "code",
   "execution_count": 8,
   "id": "57339d92",
   "metadata": {},
   "outputs": [
    {
     "name": "stdout",
     "output_type": "stream",
     "text": [
      "Enter a string: 213\n",
      "The string is not a palindrome.\n"
     ]
    }
   ],
   "source": [
    "def is_palindrome(string):\n",
    "    # Remove whitespace and convert to lowercase\n",
    "    string = string.replace(\" \", \"\").lower()\n",
    "    # Check if the reversed string is equal to the original string\n",
    "    return string == string[::-1]\n",
    "\n",
    "string = input(\"Enter a string: \")\n",
    "\n",
    "if is_palindrome(string):\n",
    "    print(\"The string is a palindrome.\")\n",
    "else:\n",
    "    print(\"The string is not a palindrome.\")"
   ]
  },
  {
   "cell_type": "code",
   "execution_count": 9,
   "id": "7046e4a1",
   "metadata": {},
   "outputs": [
    {
     "name": "stdout",
     "output_type": "stream",
     "text": [
      "Enter the length of the first side: 3\n",
      "Enter the length of the second side: 4\n",
      "The length of the third side is 5.0\n"
     ]
    }
   ],
   "source": [
    "import math\n",
    "\n",
    "def calculate_third_side(side1, side2):\n",
    "    # Calculate the length of the third side using the Pythagorean theorem\n",
    "    third_side = math.sqrt(side1**2 + side2**2)\n",
    "    return third_side\n",
    "\n",
    "side1 = float(input(\"Enter the length of the first side: \"))\n",
    "side2 = float(input(\"Enter the length of the second side: \"))\n",
    "\n",
    "third_side = calculate_third_side(side1, side2)\n",
    "print(\"The length of the third side is\", third_side)"
   ]
  },
  {
   "cell_type": "code",
   "execution_count": 10,
   "id": "f8304bf7",
   "metadata": {},
   "outputs": [
    {
     "name": "stdout",
     "output_type": "stream",
     "text": [
      "Enter a string: 1234555\n",
      "Character frequencies:\n",
      "1 : 1\n",
      "2 : 1\n",
      "3 : 1\n",
      "4 : 1\n",
      "5 : 3\n"
     ]
    }
   ],
   "source": [
    "def count_characters(string):\n",
    "    # Create an empty dictionary to store character frequencies\n",
    "    character_freq = {}\n",
    "\n",
    "    # Iterate over each character in the string\n",
    "    for char in string:\n",
    "        # Update the frequency of the character in the dictionary\n",
    "        character_freq[char] = character_freq.get(char, 0) + 1\n",
    "\n",
    "    return character_freq\n",
    "\n",
    "string = input(\"Enter a string: \")\n",
    "\n",
    "frequency = count_characters(string)\n",
    "\n",
    "print(\"Character frequencies:\")\n",
    "for char, freq in frequency.items():\n",
    "    print(char, \":\", freq)"
   ]
  },
  {
   "cell_type": "code",
   "execution_count": null,
   "id": "6245775e",
   "metadata": {},
   "outputs": [],
   "source": []
  }
 ],
 "metadata": {
  "kernelspec": {
   "display_name": "Python 3 (ipykernel)",
   "language": "python",
   "name": "python3"
  },
  "language_info": {
   "codemirror_mode": {
    "name": "ipython",
    "version": 3
   },
   "file_extension": ".py",
   "mimetype": "text/x-python",
   "name": "python",
   "nbconvert_exporter": "python",
   "pygments_lexer": "ipython3",
   "version": "3.9.13"
  }
 },
 "nbformat": 4,
 "nbformat_minor": 5
}
